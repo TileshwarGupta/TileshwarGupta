{
  "nbformat": 4,
  "nbformat_minor": 0,
  "metadata": {
    "colab": {
      "provenance": [],
      "authorship_tag": "ABX9TyMM0BmxGs6h0sgO9/nfTGzA",
      "include_colab_link": true
    },
    "kernelspec": {
      "name": "python3",
      "display_name": "Python 3"
    },
    "language_info": {
      "name": "python"
    }
  },
  "cells": [
    {
      "cell_type": "markdown",
      "metadata": {
        "id": "view-in-github",
        "colab_type": "text"
      },
      "source": [
        "<a href=\"https://colab.research.google.com/github/TileshwarGupta/TileshwarGupta/blob/main/week_2.ipynb\" target=\"_parent\"><img src=\"https://colab.research.google.com/assets/colab-badge.svg\" alt=\"Open In Colab\"/></a>"
      ]
    },
    {
      "cell_type": "markdown",
      "source": [
        "**Varibles**\n",
        "\n",
        "\n",
        "Instructions for writing reader-friendly varibles:-\n",
        "\n",
        "1. Make the varibles self- explanatory.\n",
        "2. Add comments.\n",
        "\n",
        "\n",
        "for examples:"
      ],
      "metadata": {
        "id": "yDyH8Ni7c8Z6"
      }
    },
    {
      "cell_type": "code",
      "source": [
        "chem_marks = 95  #this variable contains chemistry marks\n",
        "phy_marks = 90  #this variable contains physics marks\n"
      ],
      "metadata": {
        "id": "QsZ1P0vDdZmW"
      },
      "execution_count": null,
      "outputs": []
    },
    {
      "cell_type": "markdown",
      "source": [
        "**Dynamic Typing**\n"
      ],
      "metadata": {
        "id": "KXjkgP7Bdxsi"
      }
    },
    {
      "cell_type": "code",
      "source": [
        "a = 10  #It automatically creates adata type or the memory Location where the value of the varible 'a' is stored.\n",
        "print(type(a))\n",
        "\n",
        "a = 'india'   #Now the varibles \"a\" loses the value of 10 it was intially assinged to!\n",
        "\n",
        "print(type(a))"
      ],
      "metadata": {
        "colab": {
          "base_uri": "https://localhost:8080/"
        },
        "id": "sA0u7t1nd231",
        "outputId": "d80803c5-0e40-447c-ba0a-6e11bcd9b5a2"
      },
      "execution_count": null,
      "outputs": [
        {
          "output_type": "stream",
          "name": "stdout",
          "text": [
            "<class 'int'>\n",
            "<class 'str'>\n"
          ]
        }
      ]
    },
    {
      "cell_type": "markdown",
      "source": [
        "In python, if you declare a varible as integer, it does not stay as integer; you can change the varible's data type to whatever you want.\n",
        "\n",
        "python provides us flexibility to use variables.\n",
        "\n",
        "\n",
        "\n",
        "Another examples of dynamic typing:-"
      ],
      "metadata": {
        "id": "7qGiGjs5etBb"
      }
    },
    {
      "cell_type": "code",
      "source": [
        "n=10\n",
        "print(n)\n",
        "print(type(n))\n",
        "n =n/2\n",
        "print(n)\n",
        "print(type(n))"
      ],
      "metadata": {
        "colab": {
          "base_uri": "https://localhost:8080/"
        },
        "id": "UroiG-8tfRby",
        "outputId": "00f3c65a-c16b-4727-9333-9a61dff15600"
      },
      "execution_count": null,
      "outputs": [
        {
          "output_type": "stream",
          "name": "stdout",
          "text": [
            "10\n",
            "<class 'int'>\n",
            "5.0\n",
            "<class 'float'>\n"
          ]
        }
      ]
    },
    {
      "cell_type": "markdown",
      "source": [
        "**More on Variables, Operators and Expression :-  **\n",
        "\n",
        "In python, ther are some words like and, or, not , if , else, for, while,...... which are preferd to as \"keywords\"\n",
        "\n",
        "\n",
        "we can not use these keywords as variables names.\n",
        "\n",
        "For examples:\n",
        "\n",
        "\n"
      ],
      "metadata": {
        "id": "KLBgTxcNgHsx"
      }
    },
    {
      "cell_type": "code",
      "source": [
        "and = 5\n",
        "print(and)"
      ],
      "metadata": {
        "colab": {
          "base_uri": "https://localhost:8080/",
          "height": 106
        },
        "id": "uVU94caFhdiH",
        "outputId": "5531e2e7-5e99-48f6-b3c3-9ae243a3acf7"
      },
      "execution_count": null,
      "outputs": [
        {
          "output_type": "error",
          "ename": "SyntaxError",
          "evalue": "invalid syntax (<ipython-input-16-967934eb508f>, line 1)",
          "traceback": [
            "\u001b[0;36m  File \u001b[0;32m\"<ipython-input-16-967934eb508f>\"\u001b[0;36m, line \u001b[0;32m1\u001b[0m\n\u001b[0;31m    and = 5\u001b[0m\n\u001b[0m    ^\u001b[0m\n\u001b[0;31mSyntaxError\u001b[0m\u001b[0;31m:\u001b[0m invalid syntax\n"
          ]
        }
      ]
    },
    {
      "cell_type": "markdown",
      "source": [
        "**Rules for writing variables names:-\n",
        "\n",
        "1. Varibles names can contain alphnumetic character and underscores.\n",
        "2. We can start a varible name with an alphabet or an underscore but we cannot start it with a number .\n",
        "3. Varibles are case sensitive.\n"
      ],
      "metadata": {
        "id": "jjDonk0KhjeH"
      }
    },
    {
      "cell_type": "code",
      "source": [
        "roll = 5\n",
        "ROLL = 10\n",
        "Roll = 15\n",
        "print(roll)\n",
        "print(ROLL)\n",
        "print(Roll)"
      ],
      "metadata": {
        "colab": {
          "base_uri": "https://localhost:8080/"
        },
        "id": "ghxlcYokiHp5",
        "outputId": "0142444c-2bed-4521-a247-0fb2033fbffb"
      },
      "execution_count": null,
      "outputs": [
        {
          "output_type": "stream",
          "name": "stdout",
          "text": [
            "5\n",
            "10\n",
            "15\n"
          ]
        }
      ]
    },
    {
      "cell_type": "markdown",
      "source": [
        "Even though the spellings are the same, the computer treats all three variables as unique variables. This shows that in python variable names are case sensitive."
      ],
      "metadata": {
        "id": "nHQhL7bZiVco"
      }
    },
    {
      "cell_type": "markdown",
      "source": [
        "**Multiple Assignment:-**\n"
      ],
      "metadata": {
        "id": "lkrHyqGEi7lC"
      }
    },
    {
      "cell_type": "code",
      "source": [
        "x,y = 1,2\n",
        "print('value of x is',x)\n",
        "print('value of y is',y)"
      ],
      "metadata": {
        "colab": {
          "base_uri": "https://localhost:8080/"
        },
        "id": "ozSPh-28jHAC",
        "outputId": "6d03304f-0e9c-45d6-bb06-2facb6451d1b"
      },
      "execution_count": null,
      "outputs": [
        {
          "output_type": "stream",
          "name": "stdout",
          "text": [
            "value of x is 1\n",
            "value of y is 2\n"
          ]
        }
      ]
    },
    {
      "cell_type": "markdown",
      "source": [
        "Note that the order matters. The following code assigns 1 to the variables x and 2 to the variables y.\n"
      ],
      "metadata": {
        "id": "wSzCA0kFjVrW"
      }
    },
    {
      "cell_type": "code",
      "source": [
        "x=y=z=1\n",
        "print(x,y,z)"
      ],
      "metadata": {
        "colab": {
          "base_uri": "https://localhost:8080/"
        },
        "id": "QY4QZIlFjkZj",
        "outputId": "473044e1-903d-4339-c53e-5b87a921f99f"
      },
      "execution_count": null,
      "outputs": [
        {
          "output_type": "stream",
          "name": "stdout",
          "text": [
            "1 1 1\n"
          ]
        }
      ]
    },
    {
      "cell_type": "markdown",
      "source": [
        "**Swaping the values of the variables :-**\n"
      ],
      "metadata": {
        "id": "GG9qgrM_kFYM"
      }
    },
    {
      "cell_type": "code",
      "source": [
        "x,y =1,2\n",
        "x,y =y,x\n",
        "print(x,y)"
      ],
      "metadata": {
        "colab": {
          "base_uri": "https://localhost:8080/"
        },
        "id": "BamIRmgokRQR",
        "outputId": "e3c12f89-c3e1-4649-a010-065c14a60066"
      },
      "execution_count": null,
      "outputs": [
        {
          "output_type": "stream",
          "name": "stdout",
          "text": [
            "2 1\n"
          ]
        }
      ]
    },
    {
      "cell_type": "markdown",
      "source": [
        "**Deleting a varibles :-**\n"
      ],
      "metadata": {
        "id": "74YZUxadkctP"
      }
    },
    {
      "cell_type": "code",
      "source": [
        "x = 5\n",
        "print(x)\n",
        "del(x)\n",
        "print(x)"
      ],
      "metadata": {
        "colab": {
          "base_uri": "https://localhost:8080/",
          "height": 193
        },
        "id": "yGK1eqtokoO0",
        "outputId": "31f00d6c-3501-4e76-dc61-951a9b10ff4f"
      },
      "execution_count": null,
      "outputs": [
        {
          "output_type": "stream",
          "name": "stdout",
          "text": [
            "5\n"
          ]
        },
        {
          "output_type": "error",
          "ename": "NameError",
          "evalue": "name 'x' is not defined",
          "traceback": [
            "\u001b[0;31m---------------------------------------------------------------------------\u001b[0m",
            "\u001b[0;31mNameError\u001b[0m                                 Traceback (most recent call last)",
            "\u001b[0;32m<ipython-input-21-ed292d9470b1>\u001b[0m in \u001b[0;36m<cell line: 0>\u001b[0;34m()\u001b[0m\n\u001b[1;32m      2\u001b[0m \u001b[0mprint\u001b[0m\u001b[0;34m(\u001b[0m\u001b[0mx\u001b[0m\u001b[0;34m)\u001b[0m\u001b[0;34m\u001b[0m\u001b[0;34m\u001b[0m\u001b[0m\n\u001b[1;32m      3\u001b[0m \u001b[0;32mdel\u001b[0m\u001b[0;34m(\u001b[0m\u001b[0mx\u001b[0m\u001b[0;34m)\u001b[0m\u001b[0;34m\u001b[0m\u001b[0;34m\u001b[0m\u001b[0m\n\u001b[0;32m----> 4\u001b[0;31m \u001b[0mprint\u001b[0m\u001b[0;34m(\u001b[0m\u001b[0mx\u001b[0m\u001b[0;34m)\u001b[0m\u001b[0;34m\u001b[0m\u001b[0;34m\u001b[0m\u001b[0m\n\u001b[0m",
            "\u001b[0;31mNameError\u001b[0m: name 'x' is not defined"
          ]
        }
      ]
    },
    {
      "cell_type": "markdown",
      "source": [
        "**shorthand Operators**\n"
      ],
      "metadata": {
        "id": "XjgiD6wWkyPL"
      }
    },
    {
      "cell_type": "code",
      "source": [
        "z=0\n",
        "z += 1\n",
        "z += 1\n",
        "z += 1\n",
        "z += 1\n",
        "print(z)\n",
        "a=2\n",
        "a *= 2\n",
        "print(a)\n"
      ],
      "metadata": {
        "colab": {
          "base_uri": "https://localhost:8080/"
        },
        "id": "qLnA9qu2k4Sy",
        "outputId": "5736f3c6-8c54-4a27-c6e8-f5d9ec0a3c3a"
      },
      "execution_count": null,
      "outputs": [
        {
          "output_type": "stream",
          "name": "stdout",
          "text": [
            "4\n",
            "4\n"
          ]
        }
      ]
    },
    {
      "cell_type": "markdown",
      "source": [
        "**In operator :-**\n"
      ],
      "metadata": {
        "id": "PwON4Q0dlRGN"
      }
    },
    {
      "cell_type": "code",
      "source": [
        "print('alph'in 'alphabets')\n",
        "print('a'in 'alphabets')"
      ],
      "metadata": {
        "colab": {
          "base_uri": "https://localhost:8080/"
        },
        "id": "gHDGmZSDlo-r",
        "outputId": "8bd9f7b9-449e-4d79-cb28-a9685e526ef1"
      },
      "execution_count": null,
      "outputs": [
        {
          "output_type": "stream",
          "name": "stdout",
          "text": [
            "True\n",
            "True\n"
          ]
        }
      ]
    },
    {
      "cell_type": "markdown",
      "source": [
        "it checks if string 'alpha' is in the next string or not .\n"
      ],
      "metadata": {
        "id": "Z6tSvJu2lwi2"
      }
    },
    {
      "cell_type": "markdown",
      "source": [
        "**Chaining operators :-**\n"
      ],
      "metadata": {
        "id": "1Wzpx5rWmBZ6"
      }
    },
    {
      "cell_type": "code",
      "source": [
        "x = 5\n",
        "print(1<x<10)\n",
        "print(10<x<20)\n",
        "print(x<10<x*10<100)\n",
        "print(10>x<=9)\n",
        "print(5==x>4)"
      ],
      "metadata": {
        "colab": {
          "base_uri": "https://localhost:8080/"
        },
        "id": "TFejJSFKmHga",
        "outputId": "9378f7ee-e27d-414e-b2eb-2aec858eee5e"
      },
      "execution_count": null,
      "outputs": [
        {
          "output_type": "stream",
          "name": "stdout",
          "text": [
            "True\n",
            "False\n",
            "True\n",
            "True\n",
            "True\n"
          ]
        }
      ]
    },
    {
      "cell_type": "markdown",
      "source": [
        "**Escape character :-**\n",
        "\n",
        "\n",
        "Backslash(\\) :-  \n"
      ],
      "metadata": {
        "id": "ByVK-jqvgPOF"
      }
    },
    {
      "cell_type": "code",
      "source": [
        "print(\"It's a beautiful day\")"
      ],
      "metadata": {
        "colab": {
          "base_uri": "https://localhost:8080/"
        },
        "id": "QzR9t1xAgfee",
        "outputId": "cbb43b15-6fa6-4607-f3a2-98f69ac712fc"
      },
      "execution_count": null,
      "outputs": [
        {
          "output_type": "stream",
          "name": "stdout",
          "text": [
            "It's a beautiful day\n"
          ]
        }
      ]
    },
    {
      "cell_type": "markdown",
      "source": [
        "**Wee want to print 'it's beautiful day'. We can do this in tne following ways :-  "
      ],
      "metadata": {
        "id": "T7YGh27Rgur_"
      }
    },
    {
      "cell_type": "code",
      "source": [
        "print('It\\'s a beautiful day')\n",
        "print(\"It's a beautiful day\")\n",
        "print('It\\\\\\'s a beautiful day')"
      ],
      "metadata": {
        "id": "B-dxGhi_hF4-"
      },
      "execution_count": null,
      "outputs": []
    },
    {
      "cell_type": "markdown",
      "source": [
        "Here the backslash is called the escape character.\n",
        "there is a way to escape the quotes, (\\) This can in handy when using the apostropes symboil in the string with single quotes.\n",
        "\n",
        "\n",
        "\n",
        "**Backslash n (\\n) :-**"
      ],
      "metadata": {
        "id": "FeH95Uo1hTsG"
      }
    },
    {
      "cell_type": "code",
      "source": [
        "print('my name is Tileshwar. \\nI am from jharkhand.')"
      ],
      "metadata": {
        "id": "GC2wRZRBh4ol"
      },
      "execution_count": null,
      "outputs": []
    },
    {
      "cell_type": "markdown",
      "source": [
        "Here /n is a new line character. it effect is to introduce a new line.\n",
        "\n",
        "\n",
        "\n",
        "\n",
        "**backslash t /t**"
      ],
      "metadata": {
        "id": "ho0qXT21iNgG"
      }
    },
    {
      "cell_type": "code",
      "source": [
        "print('my name is Tileshwar. Iam from Jharkhand.')\n",
        "print('My name is Tileshwar.\\t\\tI am from jharkhand')"
      ],
      "metadata": {
        "id": "XqbAgNprij4F"
      },
      "execution_count": null,
      "outputs": []
    },
    {
      "cell_type": "markdown",
      "source": [
        "**Triples quotes:-**\n",
        "\n",
        "We can use triples quotes to:\n",
        "1. Store multiple line strings.\n",
        "2. To comment out more than 1 line.\n"
      ],
      "metadata": {
        "id": "vy2xwJaNi8Gu"
      }
    },
    {
      "cell_type": "code",
      "source": [
        "z = '''first line\n",
        "second line\n",
        "third line'''\n",
        "print (z)"
      ],
      "metadata": {
        "id": "n8EKocZvj2jt"
      },
      "execution_count": null,
      "outputs": []
    },
    {
      "cell_type": "markdown",
      "source": [
        "** String Methods **\n",
        "\n",
        "For now , We can assume these 'methods' as some commends which we can execute on strings.\n",
        "\n"
      ],
      "metadata": {
        "id": "WM8rHMrikGad"
      }
    },
    {
      "cell_type": "code",
      "source": [
        "x = 'pytHoN sTrIng mEthOdS'\n",
        "     #string methods\n",
        "x = 'pytHon sTring meThOds'\n",
        "#lower() method\n",
        "print(x.lower())\n",
        "#upper() method\n",
        "print(x.upper())\n",
        "#capitalize() method\n",
        "print(x.capitalize())\n",
        "#title() method\n",
        "print(x.title())\n",
        "#swapcase() method\n",
        "print(x.swapcase())\n",
        "#islower() method\n",
        "x = 'python'\n",
        "print(x.islower())\n",
        "#isupper() method\n",
        "x = 'Python'\n",
        "print(x.isupper())\n",
        "#istitle() method\n",
        "x = 'Python String Methods'\n",
        "print(x.istitle())\n",
        "#isdigits() method\n",
        "x = '1234567890'\n",
        "print(x.isdigit())\n",
        "#isalpha() method\n",
        "x = 'Python'\n",
        "print(x.isalpha())\n",
        "#isalnum() method\n",
        "x = 'Python123'\n",
        "print(x.isalnum())\n",
        "#strip() method\n",
        "x ='-------python-------'\n",
        "print(x.strip('-'))\n",
        "#lstrip() method\n",
        "print(x.lstrip('-'))\n",
        "#rstrip() method\n",
        "print(x.rstrip('-'))\n",
        "#startswith() method\n",
        "x = 'python string methods'\n",
        "print(x.startswith('python'))\n",
        "#endswith() method\n",
        "x = 'python string methods'\n",
        "print(x.endswith('methods'))\n",
        "x = 'python string methods'\n",
        "#count() method\n",
        "print(x.count('s'))\n",
        "#index() method\n",
        "print(x.index('s'))\n",
        "#replace() method\n",
        "x = x.replace('string', 'str')\n",
        "x = x.replace('methods', 'method')\n",
        "print(x)"
      ],
      "metadata": {
        "id": "hzUBRO6vkcns"
      },
      "execution_count": null,
      "outputs": []
    },
    {
      "cell_type": "markdown",
      "source": [
        "**Caeser- Ciphor : More on strings**\n",
        "\n",
        "It adds a key to the string and prints the encrypted string as the output-\n",
        "\n",
        "**code:-**"
      ],
      "metadata": {
        "id": "-LGecfNumO9d"
      }
    },
    {
      "cell_type": "code",
      "source": [
        "alpha = 'abcdefghijklmnopqrstuvwxyz'\n",
        "\n",
        "i = 0\n",
        "print(alpha[1])\n",
        "print(alpha[24])\n",
        "print(alpha[i])\n",
        "print(alpha[i+1])\n",
        "print(alpha[i+2])\n",
        "print(alpha[i+3])\n",
        "print(alpha[i+4])\n",
        "print(alpha[i+5])\n",
        "#print(alpha[20])\n",
        "i= 79\n",
        "print(i%26)\n",
        "print(alpha[(i+1)%26])\n",
        "print(alpha[(i+2)%26])\n",
        "print(alpha[(i+3)%26])\n",
        "s = 'tileshwar'\n",
        "# i will expect the output is ujmftixbs\n",
        "print(alpha.index(s[0]))"
      ],
      "metadata": {
        "colab": {
          "base_uri": "https://localhost:8080/"
        },
        "id": "tDaHURJWm89U",
        "outputId": "acd55fe4-5875-4636-b23b-cf6463a4a357"
      },
      "execution_count": null,
      "outputs": [
        {
          "output_type": "stream",
          "name": "stdout",
          "text": [
            "b\n",
            "y\n",
            "a\n",
            "b\n",
            "c\n",
            "d\n",
            "e\n",
            "f\n",
            "1\n",
            "c\n",
            "d\n",
            "e\n"
          ]
        },
        {
          "output_type": "execute_result",
          "data": {
            "text/plain": [
              "<function print(*args, sep=' ', end='\\n', file=None, flush=False)>"
            ]
          },
          "metadata": {},
          "execution_count": 39
        }
      ]
    },
    {
      "cell_type": "code",
      "source": [
        "alpha = 'abcdefghijklmnopqrstuvwxyz'\n",
        "s = 'tileshwar'\n",
        "# i will expect the output is ujmftixbs\n",
        "t = ''\n",
        "k = 56\n",
        "t += (alpha[((alpha.index(s[0])+k)%26)])\n",
        "t += (alpha[((alpha.index(s[1])+k)%26)])\n",
        "t += (alpha[((alpha.index(s[2])+k)%26)])\n",
        "t += (alpha[((alpha.index(s[3])+k)%26)])\n",
        "t += (alpha[((alpha.index(s[4])+k)%26)])\n",
        "t += (alpha[((alpha.index(s[5])+k)%26)])\n",
        "t += (alpha[((alpha.index(s[6])+k)%26)])\n",
        "t += (alpha[((alpha.index(s[7])+k)%26)])\n",
        "t += (alpha[((alpha.index(s[8])+k)%26)])\n",
        "print(s)\n",
        "print(t)"
      ],
      "metadata": {
        "colab": {
          "base_uri": "https://localhost:8080/"
        },
        "id": "d09e4_1vuAlU",
        "outputId": "c2952902-d79b-49e4-8c59-60f31e0a841a"
      },
      "execution_count": null,
      "outputs": [
        {
          "output_type": "stream",
          "name": "stdout",
          "text": [
            "tileshwar\n",
            "xmpiwlaev\n"
          ]
        }
      ]
    },
    {
      "cell_type": "markdown",
      "source": [
        "**   \"if \" Statement **\n",
        "\n",
        "let us consider the moive \"avengerss\" .This is a 13+ moive.\n",
        "\n",
        "\n",
        "code:\n"
      ],
      "metadata": {
        "id": "z8VimcGi4WHk"
      }
    },
    {
      "cell_type": "code",
      "source": [
        "birth_year = int(input(\"Please enter your date of birth:\"))\n",
        "\n",
        "current_year = 2025\n",
        "\n",
        "age = current_year - birth_year\n",
        "\n",
        "if  (age<13):\n",
        "  print(\"You are under age, you cannot watch this moive.\")\n",
        "  print(\"wait until youare old enough to watch the moive.\")\n",
        "else :\n",
        "  print(\"you are old enough to watch Avengers, Enjoy!\")\n",
        "  print(\"Donot forget to sequals and prequanls.\")\n",
        "\n",
        "print('have a nice time!')"
      ],
      "metadata": {
        "colab": {
          "base_uri": "https://localhost:8080/"
        },
        "id": "CHILIHInl2Qi",
        "outputId": "3141d367-7003-444d-ac81-015989e7db80"
      },
      "execution_count": null,
      "outputs": [
        {
          "output_type": "stream",
          "name": "stdout",
          "text": [
            "Please enter your date of birth:2004\n",
            "you are old enough to watch Avengers, Enjoy!\n",
            "Donot forget to sequals and prequanls.\n",
            "have a nice time!\n"
          ]
        }
      ]
    },
    {
      "cell_type": "markdown",
      "source": [
        "in line 7,\n",
        "if the condition in the 'if' block is true then only the statement in the line 8and 9 are executed.\n",
        "\n",
        "But if the condition in the 'if' block is not true then the statement in the line 11 and 12 of the else block are evaluated.\n",
        "\n",
        "\n",
        "line 14 will always execute.\n"
      ],
      "metadata": {
        "id": "2akrDLkZnfiJ"
      }
    },
    {
      "cell_type": "markdown",
      "source": [
        "**if else and else-if conditions :-**\n",
        "\n",
        "1. find whether the given number is even or odd -\n",
        "\n",
        "code:\n"
      ],
      "metadata": {
        "id": "1XXpvjYYoQHE"
      }
    },
    {
      "cell_type": "code",
      "source": [
        "num = int(input('Enter a number:'))\n",
        "\n",
        "if (num%2 == 0):\n",
        "  print('even')\n",
        "else:\n",
        "  print('odd')\n"
      ],
      "metadata": {
        "colab": {
          "base_uri": "https://localhost:8080/"
        },
        "id": "4TF_kwm3ogli",
        "outputId": "a05e3679-b19f-4766-f620-bf7892426d92"
      },
      "execution_count": null,
      "outputs": [
        {
          "output_type": "stream",
          "name": "stdout",
          "text": [
            "Enter a number:12\n",
            "even\n"
          ]
        }
      ]
    },
    {
      "cell_type": "markdown",
      "source": [
        "2. Find whether the given number ends with 0 or 5 or any other number-\n",
        "\n",
        "code:\n"
      ],
      "metadata": {
        "id": "5md0yb8HpBxW"
      }
    },
    {
      "cell_type": "code",
      "source": [
        "num = int(input('Enter a number :-'))\n",
        "if (num%5 ==0):\n",
        "  if (num%10 ==0):\n",
        "    print('0')\n",
        "  else:\n",
        "    print('5')\n",
        "else:\n",
        "  print(\"other\")"
      ],
      "metadata": {
        "colab": {
          "base_uri": "https://localhost:8080/"
        },
        "id": "FI4zZLWmpVsZ",
        "outputId": "411eb69a-5a18-4c6f-ec1c-d2e739e8e4fc"
      },
      "execution_count": null,
      "outputs": [
        {
          "output_type": "stream",
          "name": "stdout",
          "text": [
            "Enter a number :-57\n",
            "other\n"
          ]
        }
      ]
    },
    {
      "cell_type": "markdown",
      "source": [
        "3. Find the grade of the student based on the given marks from 0 to 100 -\n",
        "\n",
        "\n",
        "code :-\n",
        "\n"
      ],
      "metadata": {
        "id": "n_sk236TqE1Z"
      }
    },
    {
      "cell_type": "code",
      "source": [
        "marks = int(input('Enter marks:'))\n",
        "if (marks>=0 and marks<=100):\n",
        "  if (marks>=90):\n",
        "    print('A')\n",
        "  elif (marks>=80):\n",
        "    print('B')\n",
        "  elif (marks>=70):\n",
        "    print('C')\n",
        "  elif(marks>=60):\n",
        "    print('D')\n",
        "  else:\n",
        "   print('E')\n",
        "\n",
        "else :\n",
        "  print('Invalid input')"
      ],
      "metadata": {
        "colab": {
          "base_uri": "https://localhost:8080/"
        },
        "id": "PR2pk646qQgb",
        "outputId": "2d1658a1-5805-435c-947d-7241de4bb3b6"
      },
      "execution_count": null,
      "outputs": [
        {
          "output_type": "stream",
          "name": "stdout",
          "text": [
            "Enter marks:45\n",
            "E\n"
          ]
        }
      ]
    },
    {
      "cell_type": "markdown",
      "source": [
        "Convert the gven flowchart into python code![Screenshot 2025-05-22 115857.png](data:image/png;base64,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)"
      ],
      "metadata": {
        "id": "9Wa4wb81rYqF"
      }
    },
    {
      "cell_type": "code",
      "source": [
        "print('Travel from city A to city B ')\n",
        "Time = int(input('Enter time:'))\n",
        "Longer = int(input('define longer:'))\n",
        "if (Time>=Longer):\n",
        "  Price= int(input('Enter price:'))\n",
        "  Higher = int(input('define higher'))\n",
        "  if(Price>=Higher):\n",
        "    print('Train')\n",
        "  else:\n",
        "    print('coach')\n",
        "else:\n",
        "  price = int(input('Enter price:'))\n",
        "  Higher = int(input('define higher'))\n",
        "  if(price>=Higher):\n",
        "    print('Daytime flight')\n",
        "  else:\n",
        "    print('Red eye flight')\n",
        "print('Arrive city B')\n"
      ],
      "metadata": {
        "colab": {
          "base_uri": "https://localhost:8080/"
        },
        "id": "hjeA2CMtrrzJ",
        "outputId": "35ca0e75-cf3e-4199-85c6-63eb60bb3970"
      },
      "execution_count": null,
      "outputs": [
        {
          "output_type": "stream",
          "name": "stdout",
          "text": [
            "Travel from city A to city B \n",
            "Enter time:10\n",
            "define longer:15\n",
            "Enter price:1500\n",
            "define higher15000\n",
            "Red eye flight\n",
            "Arrive city B\n"
          ]
        }
      ]
    },
    {
      "cell_type": "markdown",
      "source": [
        "** Library Function in python **\n",
        "\n",
        "\n",
        "A library is a colection of functions that share a common theme.\n",
        "\n",
        "It will import the whole library of 'math' and we can use any 'function' from it.\n"
      ],
      "metadata": {
        "id": "stvyg7hlf96z"
      }
    },
    {
      "cell_type": "code",
      "source": [
        "import math\n",
        "\n",
        "print(math.log(100))\n",
        "print(math.sin(135))\n",
        "print(math.sqrt(144))\n",
        "print(math.factorial(5))\n",
        "print(math.pow(2, 4))\n"
      ],
      "metadata": {
        "colab": {
          "base_uri": "https://localhost:8080/"
        },
        "id": "An4FZOrEgjix",
        "outputId": "0e8cae87-b2b0-4ac0-e918-58773083bf33"
      },
      "execution_count": null,
      "outputs": [
        {
          "output_type": "stream",
          "name": "stdout",
          "text": [
            "4.605170185988092\n",
            "0.08836868610400143\n",
            "12.0\n",
            "120\n",
            "16.0\n"
          ]
        }
      ]
    },
    {
      "cell_type": "markdown",
      "source": [
        "It imports the 'random' library\n"
      ],
      "metadata": {
        "id": "qaYr6-i8hGJk"
      }
    },
    {
      "cell_type": "code",
      "source": [
        "import random\n",
        "print(random.random())"
      ],
      "metadata": {
        "colab": {
          "base_uri": "https://localhost:8080/"
        },
        "id": "YKdmKCiOhS_x",
        "outputId": "7bb12767-d49b-4756-eb18-8923db1b27e1"
      },
      "execution_count": null,
      "outputs": [
        {
          "output_type": "stream",
          "name": "stdout",
          "text": [
            "0.44989420024619464\n"
          ]
        }
      ]
    },
    {
      "cell_type": "markdown",
      "source": [
        "**Lets us simulate a coin toss-**\n"
      ],
      "metadata": {
        "id": "Fp9aTxBIhc6o"
      }
    },
    {
      "cell_type": "code",
      "source": [
        "import random\n",
        "a = random.random()\n",
        "\n",
        "if(a<0.5):\n",
        "  print(\"head\")\n",
        "  print(a)\n",
        "else:\n",
        "  print(\"tail\")\n",
        "  print(a)"
      ],
      "metadata": {
        "colab": {
          "base_uri": "https://localhost:8080/"
        },
        "id": "-BR50F9phkPZ",
        "outputId": "bf4158f1-291d-4b7a-f400-487089d7f029"
      },
      "execution_count": null,
      "outputs": [
        {
          "output_type": "stream",
          "name": "stdout",
          "text": [
            "head\n",
            "0.479659196676114\n"
          ]
        }
      ]
    },
    {
      "cell_type": "markdown",
      "source": [
        "** Lets us simulate a six faced dice:-**\n"
      ],
      "metadata": {
        "id": "I_55X3ulh8xZ"
      }
    },
    {
      "cell_type": "code",
      "source": [
        "import random\n",
        "a = random.randrange(1,7)\n",
        "\n",
        "if (a== 1,3,5):\n",
        "  print(\"odd\")\n",
        "  print(a)\n",
        "else:\n",
        "  print(\"even\")\n",
        "\n"
      ],
      "metadata": {
        "colab": {
          "base_uri": "https://localhost:8080/"
        },
        "id": "haoj1DLiijaA",
        "outputId": "9e8b05a5-0add-4238-b30e-cee32a1c7f6f"
      },
      "execution_count": null,
      "outputs": [
        {
          "output_type": "stream",
          "name": "stdout",
          "text": [
            "odd\n",
            "6\n"
          ]
        }
      ]
    },
    {
      "cell_type": "markdown",
      "source": [
        "** Lets us simulate the sum of 2 six faced die:-**\n"
      ],
      "metadata": {
        "id": "jVGlVQSCkZNR"
      }
    },
    {
      "cell_type": "code",
      "source": [
        "import random\n",
        "dice1 = (random.randrange(1,7))\n",
        "dice2 = (random.randrange(1,7))\n",
        "print(dice1)\n",
        "print(dice2)\n",
        "b = dice1+dice2\n",
        "print(\"sum of pair of dice \", b)"
      ],
      "metadata": {
        "colab": {
          "base_uri": "https://localhost:8080/"
        },
        "id": "xZHxDavzkkkZ",
        "outputId": "cb28f16d-bcd3-406a-afdf-00591bf76400"
      },
      "execution_count": null,
      "outputs": [
        {
          "output_type": "stream",
          "name": "stdout",
          "text": [
            "6\n",
            "6\n",
            "sum of pair of dice  12\n"
          ]
        }
      ]
    },
    {
      "cell_type": "markdown",
      "source": [
        "**Different ways to import library:-**\n",
        "\n",
        "\n",
        "\n",
        "**First way:-**\n"
      ],
      "metadata": {
        "id": "j3-tS_khk_0S"
      }
    },
    {
      "cell_type": "code",
      "source": [
        "import calendar\n",
        "print(calendar.month(2000,2))"
      ],
      "metadata": {
        "colab": {
          "base_uri": "https://localhost:8080/"
        },
        "id": "Nar4Bcw6lN9Z",
        "outputId": "01b8e61e-7287-4b2e-8089-2c970bc0af11"
      },
      "execution_count": null,
      "outputs": [
        {
          "output_type": "stream",
          "name": "stdout",
          "text": [
            "   February 2000\n",
            "Mo Tu We Th Fr Sa Su\n",
            "    1  2  3  4  5  6\n",
            " 7  8  9 10 11 12 13\n",
            "14 15 16 17 18 19 20\n",
            "21 22 23 24 25 26 27\n",
            "28 29\n",
            "\n"
          ]
        }
      ]
    },
    {
      "cell_type": "markdown",
      "source": [
        "It will import the whole 'calendar' library and to use any function from it we will have to write 'calendar.function_name'"
      ],
      "metadata": {
        "id": "NBGrQRialglJ"
      }
    },
    {
      "cell_type": "code",
      "source": [
        "import calendar\n",
        "print(calendar.calendar(2000))\n"
      ],
      "metadata": {
        "colab": {
          "base_uri": "https://localhost:8080/"
        },
        "id": "mI8oqrbSl5Hp",
        "outputId": "2fb120ed-e7d7-4ad4-c163-ec7c2b6ba901"
      },
      "execution_count": null,
      "outputs": [
        {
          "output_type": "stream",
          "name": "stdout",
          "text": [
            "                                  2000\n",
            "\n",
            "      January                   February                   March\n",
            "Mo Tu We Th Fr Sa Su      Mo Tu We Th Fr Sa Su      Mo Tu We Th Fr Sa Su\n",
            "                1  2          1  2  3  4  5  6             1  2  3  4  5\n",
            " 3  4  5  6  7  8  9       7  8  9 10 11 12 13       6  7  8  9 10 11 12\n",
            "10 11 12 13 14 15 16      14 15 16 17 18 19 20      13 14 15 16 17 18 19\n",
            "17 18 19 20 21 22 23      21 22 23 24 25 26 27      20 21 22 23 24 25 26\n",
            "24 25 26 27 28 29 30      28 29                     27 28 29 30 31\n",
            "31\n",
            "\n",
            "       April                      May                       June\n",
            "Mo Tu We Th Fr Sa Su      Mo Tu We Th Fr Sa Su      Mo Tu We Th Fr Sa Su\n",
            "                1  2       1  2  3  4  5  6  7                1  2  3  4\n",
            " 3  4  5  6  7  8  9       8  9 10 11 12 13 14       5  6  7  8  9 10 11\n",
            "10 11 12 13 14 15 16      15 16 17 18 19 20 21      12 13 14 15 16 17 18\n",
            "17 18 19 20 21 22 23      22 23 24 25 26 27 28      19 20 21 22 23 24 25\n",
            "24 25 26 27 28 29 30      29 30 31                  26 27 28 29 30\n",
            "\n",
            "        July                     August                  September\n",
            "Mo Tu We Th Fr Sa Su      Mo Tu We Th Fr Sa Su      Mo Tu We Th Fr Sa Su\n",
            "                1  2          1  2  3  4  5  6                   1  2  3\n",
            " 3  4  5  6  7  8  9       7  8  9 10 11 12 13       4  5  6  7  8  9 10\n",
            "10 11 12 13 14 15 16      14 15 16 17 18 19 20      11 12 13 14 15 16 17\n",
            "17 18 19 20 21 22 23      21 22 23 24 25 26 27      18 19 20 21 22 23 24\n",
            "24 25 26 27 28 29 30      28 29 30 31               25 26 27 28 29 30\n",
            "31\n",
            "\n",
            "      October                   November                  December\n",
            "Mo Tu We Th Fr Sa Su      Mo Tu We Th Fr Sa Su      Mo Tu We Th Fr Sa Su\n",
            "                   1             1  2  3  4  5                   1  2  3\n",
            " 2  3  4  5  6  7  8       6  7  8  9 10 11 12       4  5  6  7  8  9 10\n",
            " 9 10 11 12 13 14 15      13 14 15 16 17 18 19      11 12 13 14 15 16 17\n",
            "16 17 18 19 20 21 22      20 21 22 23 24 25 26      18 19 20 21 22 23 24\n",
            "23 24 25 26 27 28 29      27 28 29 30               25 26 27 28 29 30 31\n",
            "30 31\n",
            "\n"
          ]
        }
      ]
    },
    {
      "cell_type": "markdown",
      "source": [
        "**second ways: **\n",
        "\n"
      ],
      "metadata": {
        "id": "q0liVA2ZmFeZ"
      }
    },
    {
      "cell_type": "code",
      "source": [
        "from calendar import month\n",
        "print(month(2000,2))"
      ],
      "metadata": {
        "colab": {
          "base_uri": "https://localhost:8080/"
        },
        "id": "F6uq8Kh6mJ6q",
        "outputId": "6197fdb1-a389-4667-e854-b1dae1dfc0e5"
      },
      "execution_count": null,
      "outputs": [
        {
          "output_type": "stream",
          "name": "stdout",
          "text": [
            "   February 2000\n",
            "Mo Tu We Th Fr Sa Su\n",
            "    1  2  3  4  5  6\n",
            " 7  8  9 10 11 12 13\n",
            "14 15 16 17 18 19 20\n",
            "21 22 23 24 25 26 27\n",
            "28 29\n",
            "\n"
          ]
        }
      ]
    },
    {
      "cell_type": "code",
      "source": [
        "from calendar import calendar\n",
        "print(calendar(2001))"
      ],
      "metadata": {
        "colab": {
          "base_uri": "https://localhost:8080/"
        },
        "id": "fBq2oSfEmPxR",
        "outputId": "e6da7365-928a-4075-8198-ac2894f2edd0"
      },
      "execution_count": null,
      "outputs": [
        {
          "output_type": "stream",
          "name": "stdout",
          "text": [
            "                                  2001\n",
            "\n",
            "      January                   February                   March\n",
            "Mo Tu We Th Fr Sa Su      Mo Tu We Th Fr Sa Su      Mo Tu We Th Fr Sa Su\n",
            " 1  2  3  4  5  6  7                1  2  3  4                1  2  3  4\n",
            " 8  9 10 11 12 13 14       5  6  7  8  9 10 11       5  6  7  8  9 10 11\n",
            "15 16 17 18 19 20 21      12 13 14 15 16 17 18      12 13 14 15 16 17 18\n",
            "22 23 24 25 26 27 28      19 20 21 22 23 24 25      19 20 21 22 23 24 25\n",
            "29 30 31                  26 27 28                  26 27 28 29 30 31\n",
            "\n",
            "       April                      May                       June\n",
            "Mo Tu We Th Fr Sa Su      Mo Tu We Th Fr Sa Su      Mo Tu We Th Fr Sa Su\n",
            "                   1          1  2  3  4  5  6                   1  2  3\n",
            " 2  3  4  5  6  7  8       7  8  9 10 11 12 13       4  5  6  7  8  9 10\n",
            " 9 10 11 12 13 14 15      14 15 16 17 18 19 20      11 12 13 14 15 16 17\n",
            "16 17 18 19 20 21 22      21 22 23 24 25 26 27      18 19 20 21 22 23 24\n",
            "23 24 25 26 27 28 29      28 29 30 31               25 26 27 28 29 30\n",
            "30\n",
            "\n",
            "        July                     August                  September\n",
            "Mo Tu We Th Fr Sa Su      Mo Tu We Th Fr Sa Su      Mo Tu We Th Fr Sa Su\n",
            "                   1             1  2  3  4  5                      1  2\n",
            " 2  3  4  5  6  7  8       6  7  8  9 10 11 12       3  4  5  6  7  8  9\n",
            " 9 10 11 12 13 14 15      13 14 15 16 17 18 19      10 11 12 13 14 15 16\n",
            "16 17 18 19 20 21 22      20 21 22 23 24 25 26      17 18 19 20 21 22 23\n",
            "23 24 25 26 27 28 29      27 28 29 30 31            24 25 26 27 28 29 30\n",
            "30 31\n",
            "\n",
            "      October                   November                  December\n",
            "Mo Tu We Th Fr Sa Su      Mo Tu We Th Fr Sa Su      Mo Tu We Th Fr Sa Su\n",
            " 1  2  3  4  5  6  7                1  2  3  4                      1  2\n",
            " 8  9 10 11 12 13 14       5  6  7  8  9 10 11       3  4  5  6  7  8  9\n",
            "15 16 17 18 19 20 21      12 13 14 15 16 17 18      10 11 12 13 14 15 16\n",
            "22 23 24 25 26 27 28      19 20 21 22 23 24 25      17 18 19 20 21 22 23\n",
            "29 30 31                  26 27 28 29 30            24 25 26 27 28 29 30\n",
            "                                                    31\n",
            "\n"
          ]
        }
      ]
    },
    {
      "cell_type": "markdown",
      "source": [
        "**Third way:**\n",
        "\n",
        "\n",
        "Using \"as\" while importing libraries  \n",
        "\n"
      ],
      "metadata": {
        "id": "XYIUiVOomdAJ"
      }
    },
    {
      "cell_type": "code",
      "source": [
        "import calendar as c\n",
        "print(c.month(2000,4))"
      ],
      "metadata": {
        "colab": {
          "base_uri": "https://localhost:8080/"
        },
        "id": "XfeoldwtmleS",
        "outputId": "73ae0123-2520-4846-b982-011178e89e10"
      },
      "execution_count": null,
      "outputs": [
        {
          "output_type": "stream",
          "name": "stdout",
          "text": [
            "     April 2000\n",
            "Mo Tu We Th Fr Sa Su\n",
            "                1  2\n",
            " 3  4  5  6  7  8  9\n",
            "10 11 12 13 14 15 16\n",
            "17 18 19 20 21 22 23\n",
            "24 25 26 27 28 29 30\n",
            "\n"
          ]
        }
      ]
    }
  ]
}