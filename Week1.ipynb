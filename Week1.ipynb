{
  "nbformat": 4,
  "nbformat_minor": 0,
  "metadata": {
    "colab": {
      "provenance": [],
      "authorship_tag": "ABX9TyM9PGb56d+OPFbpor3WaGIN",
      "include_colab_link": true
    },
    "kernelspec": {
      "name": "python3",
      "display_name": "Python 3"
    },
    "language_info": {
      "name": "python"
    }
  },
  "cells": [
    {
      "cell_type": "markdown",
      "metadata": {
        "id": "view-in-github",
        "colab_type": "text"
      },
      "source": [
        "<a href=\"https://colab.research.google.com/github/TileshwarGupta/TileshwarGupta/blob/main/Week1.ipynb\" target=\"_parent\"><img src=\"https://colab.research.google.com/assets/colab-badge.svg\" alt=\"Open In Colab\"/></a>"
      ]
    },
    {
      "cell_type": "markdown",
      "source": [],
      "metadata": {
        "id": "mMvmoOT4YvTA"
      }
    },
    {
      "cell_type": "markdown",
      "source": [
        "#code 1\n"
      ],
      "metadata": {
        "id": "SfBs6-2PY5wR"
      }
    },
    {
      "cell_type": "code",
      "source": [
        "print(\"hello world\")"
      ],
      "metadata": {
        "colab": {
          "base_uri": "https://localhost:8080/"
        },
        "id": "ZfwiwdRFY8kh",
        "outputId": "34150a19-10f8-496e-c3af-7972b5dc8991"
      },
      "execution_count": null,
      "outputs": [
        {
          "output_type": "stream",
          "name": "stdout",
          "text": [
            "hello world\n"
          ]
        }
      ]
    },
    {
      "cell_type": "markdown",
      "source": [
        "code 2\n"
      ],
      "metadata": {
        "id": "ZCFJUtyFZHvB"
      }
    },
    {
      "cell_type": "code",
      "source": [
        "print(\"namastey india\")"
      ],
      "metadata": {
        "colab": {
          "base_uri": "https://localhost:8080/"
        },
        "id": "DJ2B52qsZI2x",
        "outputId": "8f7eb278-9718-4c0e-d64f-caf46cedecf7"
      },
      "execution_count": null,
      "outputs": [
        {
          "output_type": "stream",
          "name": "stdout",
          "text": [
            "namastey india\n"
          ]
        }
      ]
    },
    {
      "cell_type": "markdown",
      "source": [
        "code 3\n"
      ],
      "metadata": {
        "id": "V0tmX1nLZQAR"
      }
    },
    {
      "cell_type": "code",
      "source": [
        "print(\"*\")\n",
        "print(\"* *\")\n",
        "print(\"* * *\")\n",
        "print(\"* * * *\")\n",
        "print(\"* * * * *\")\n",
        "print(\"* * * *\")\n",
        "print(\"* * *\")\n",
        "print(\"* *\")\n",
        "print(\"*\")"
      ],
      "metadata": {
        "colab": {
          "base_uri": "https://localhost:8080/"
        },
        "id": "9UpMDag-ZSLp",
        "outputId": "e92605c4-f35b-4b87-e06a-7d069ea5e39b"
      },
      "execution_count": null,
      "outputs": [
        {
          "output_type": "stream",
          "name": "stdout",
          "text": [
            "*\n",
            "* *\n",
            "* * *\n",
            "* * * *\n",
            "* * * * *\n",
            "* * * *\n",
            "* * *\n",
            "* *\n",
            "*\n"
          ]
        }
      ]
    },
    {
      "cell_type": "markdown",
      "source": [
        "Additional information:-\n",
        "1. Backslash n(\\n) is the character that is used to create the new line.\n",
        "2. You can comment in python using a single hash(#) symbol at the begining.\n",
        "3. Commenting are programmer readable explanation and generally ignored by compilers and interpreters.\n",
        "\n"
      ],
      "metadata": {
        "id": "H7S-HG4lZau4"
      }
    },
    {
      "cell_type": "markdown",
      "source": [
        "More about Print statement:-\n"
      ],
      "metadata": {
        "id": "fbuljHV0b3lO"
      }
    },
    {
      "cell_type": "markdown",
      "source": [
        "Code 1\n",
        " (printing multiple strings in 1 line)\n"
      ],
      "metadata": {
        "id": "bNgbzG-ZcAKP"
      }
    },
    {
      "cell_type": "code",
      "source": [
        "print(\"oh\",\"my\",\"god\")"
      ],
      "metadata": {
        "colab": {
          "base_uri": "https://localhost:8080/"
        },
        "id": "FBPjjtTpcCYI",
        "outputId": "15b4dd13-60b9-4a47-92c9-337e31b649ee"
      },
      "execution_count": null,
      "outputs": [
        {
          "output_type": "stream",
          "name": "stdout",
          "text": [
            "oh my god\n"
          ]
        }
      ]
    },
    {
      "cell_type": "markdown",
      "source": [
        "CODE 2 (printing natural number)\n",
        "\n"
      ],
      "metadata": {
        "id": "G2hrQktec91l"
      }
    },
    {
      "cell_type": "code",
      "source": [
        "print('10')"
      ],
      "metadata": {
        "colab": {
          "base_uri": "https://localhost:8080/"
        },
        "id": "ycyhtK30dHNU",
        "outputId": "1f1ca166-61a2-44e1-ac2f-46b8afccdccb"
      },
      "execution_count": null,
      "outputs": [
        {
          "output_type": "stream",
          "name": "stdout",
          "text": [
            "10\n"
          ]
        }
      ]
    },
    {
      "cell_type": "markdown",
      "source": [
        "code 3(printing fractional number )\n"
      ],
      "metadata": {
        "id": "L8WCIEgYdOEI"
      }
    },
    {
      "cell_type": "code",
      "source": [
        "print('10.34')"
      ],
      "metadata": {
        "colab": {
          "base_uri": "https://localhost:8080/"
        },
        "id": "CkJKcY0HdV18",
        "outputId": "f1568c1c-c079-45f4-a022-9884a72face1"
      },
      "execution_count": null,
      "outputs": [
        {
          "output_type": "stream",
          "name": "stdout",
          "text": [
            "10.34\n"
          ]
        }
      ]
    },
    {
      "cell_type": "markdown",
      "source": [
        "code 4(combining all the above in 1 line)\n"
      ],
      "metadata": {
        "id": "zavDck5wdb5d"
      }
    },
    {
      "cell_type": "code",
      "source": [
        "print('oh','my','god',10,20)"
      ],
      "metadata": {
        "colab": {
          "base_uri": "https://localhost:8080/"
        },
        "id": "tpp9aE5Pdjzw",
        "outputId": "4758c2e9-3d8a-4b61-bbce-ebf956bab881"
      },
      "execution_count": null,
      "outputs": [
        {
          "output_type": "stream",
          "name": "stdout",
          "text": [
            "oh my god 10 20\n"
          ]
        }
      ]
    },
    {
      "cell_type": "markdown",
      "source": [
        "**common syntax errors that needs to be taken care of:-**\n",
        "1. Spellings of print in print statement should be correct.\n",
        "2. You must use the round brackets after print.\n",
        "3. you can use single or double qoutes in a print statement.\n",
        "4. Do not use the combination od qoutes viz........>print('hello\") If you hasve started with a single qoute then end with a singlr quote."
      ],
      "metadata": {
        "id": "gRKFIMCuduzc"
      }
    },
    {
      "cell_type": "markdown",
      "source": [
        "**Variables:-**\n",
        "code 1\n"
      ],
      "metadata": {
        "id": "7QEih7BEetSy"
      }
    },
    {
      "cell_type": "code",
      "source": [
        "a=10\n",
        "b=10\n",
        "print(a) #it print the vale of a\n",
        "print(b) #it print the value of b\n",
        "print(a+b) #it print the vale of a+b\n",
        "print(a-b) #it print the vale of a-b\n",
        "print(a*b) #it print the vale of a*b\n",
        "print(a/b) #it print the vale of a/b"
      ],
      "metadata": {
        "colab": {
          "base_uri": "https://localhost:8080/"
        },
        "id": "2vAHYJSLe3Ub",
        "outputId": "193bdd0d-c096-45bf-9503-f573da3ab750"
      },
      "execution_count": null,
      "outputs": [
        {
          "output_type": "stream",
          "name": "stdout",
          "text": [
            "10\n",
            "10\n",
            "20\n",
            "0\n",
            "100\n",
            "1.0\n"
          ]
        }
      ]
    },
    {
      "cell_type": "markdown",
      "source": [
        "Code 2\n"
      ],
      "metadata": {
        "id": "c-LI1dBVfn9N"
      }
    },
    {
      "cell_type": "code",
      "source": [
        "a=1\n",
        "print(a)\n",
        "a=a+1 #it will increment of 1\n",
        "print(a)\n",
        "a+=1 #it will increment of 1\n",
        "print(a)\n",
        "a-=1 #it will decrement of 1\n",
        "print(a)"
      ],
      "metadata": {
        "colab": {
          "base_uri": "https://localhost:8080/"
        },
        "id": "jSLhT26xfqNu",
        "outputId": "9918ba05-e0b0-4180-8621-28b22e6db686"
      },
      "execution_count": null,
      "outputs": [
        {
          "output_type": "stream",
          "name": "stdout",
          "text": [
            "1\n",
            "2\n",
            "3\n",
            "2\n"
          ]
        }
      ]
    },
    {
      "cell_type": "markdown",
      "source": [
        "**input Statement (Let's interact with the end user):-**\n",
        "\n",
        "\n",
        "Code 1"
      ],
      "metadata": {
        "id": "UK0LfczpgGsE"
      }
    },
    {
      "cell_type": "code",
      "source": [
        "print(\"enter a number :\")\n",
        "n=int(input())\n",
        "print(n)\n",
        "print(n+1)\n",
        "print(n+2)"
      ],
      "metadata": {
        "colab": {
          "base_uri": "https://localhost:8080/"
        },
        "id": "tTsspchXgaRN",
        "outputId": "6fd7984f-890f-403d-a234-e626d8949d63"
      },
      "execution_count": null,
      "outputs": [
        {
          "output_type": "stream",
          "name": "stdout",
          "text": [
            "enter a number :\n",
            "10\n",
            "10\n",
            "11\n",
            "12\n"
          ]
        }
      ]
    },
    {
      "cell_type": "markdown",
      "source": [
        "**Variables and Input Statements :-**\n",
        "\n",
        "\n",
        "Code 1"
      ],
      "metadata": {
        "id": "S_spzd1UhAj2"
      }
    },
    {
      "cell_type": "code",
      "source": [
        "print('hello,what is your name?')\n",
        "name= str(input())   #it will take input as string data type from the end user\n",
        "print('which place are you in ?')\n",
        "place = str(input())\n",
        "print('Hello',name, 'how is the weaather in',place, '?')"
      ],
      "metadata": {
        "colab": {
          "base_uri": "https://localhost:8080/"
        },
        "id": "dzrYu6Gkh-2H",
        "outputId": "b0af9194-ea7f-426c-c029-9700fcfb2fe7"
      },
      "execution_count": null,
      "outputs": [
        {
          "output_type": "stream",
          "name": "stdout",
          "text": [
            "hello,what is your name?\n",
            "Tileshwar\n",
            "which place are you in ?\n",
            "Hazaribagh\n",
            "Hello Tileshwar how is the weaather in Hazaribagh ?\n"
          ]
        }
      ]
    },
    {
      "cell_type": "markdown",
      "source": [
        "**Merging Print and Input Statements :-**\n",
        "\n",
        "\n",
        "Code 1"
      ],
      "metadata": {
        "id": "xi1sdR2Pj_49"
      }
    },
    {
      "cell_type": "code",
      "source": [
        "num  = int(input('Enter a number :'))\n"
      ],
      "metadata": {
        "colab": {
          "base_uri": "https://localhost:8080/"
        },
        "id": "HRe65Ldole58",
        "outputId": "fb5f9f10-9e59-45f7-a820-759ebd85ea07"
      },
      "execution_count": null,
      "outputs": [
        {
          "name": "stdout",
          "output_type": "stream",
          "text": [
            "Enter a number :10\n"
          ]
        }
      ]
    },
    {
      "cell_type": "markdown",
      "source": [
        "Code 2\n"
      ],
      "metadata": {
        "id": "shEY4XGJt5AL"
      }
    },
    {
      "cell_type": "code",
      "source": [
        "r = int(input('Enter the radius of the cicle:'))\n",
        "area = 3.14*r*r\n",
        "print('Area of the circle is:',area)"
      ],
      "metadata": {
        "colab": {
          "base_uri": "https://localhost:8080/"
        },
        "id": "MdKh-LcNt69i",
        "outputId": "86133cac-5522-4b3b-8414-0c8fef77d6f6"
      },
      "execution_count": null,
      "outputs": [
        {
          "output_type": "stream",
          "name": "stdout",
          "text": [
            "Enter the radius of the cicle:48\n",
            "Area of the circle is: 7234.5599999999995\n"
          ]
        }
      ]
    },
    {
      "cell_type": "markdown",
      "source": [
        "In code 2,\n",
        "\n",
        "'r' and 'area'are variables.\n",
        "The value of pi that is always 3.14 is the literal."
      ],
      "metadata": {
        "id": "QpsuivfZuNTX"
      }
    },
    {
      "cell_type": "markdown",
      "source": [
        "**Let's learn about data types:-**\n",
        "\n",
        "Code 1\n"
      ],
      "metadata": {
        "id": "u2oo2n2uulQh"
      }
    },
    {
      "cell_type": "markdown",
      "source": [],
      "metadata": {
        "id": "Lk64q91Db9Qb"
      }
    },
    {
      "cell_type": "code",
      "source": [
        "num = 10\n",
        "dec_num = 9.4\n",
        "s = \"scooby doo!\"\n",
        "print(num)\n",
        "print ('num is of type:',type(num))\n",
        "print (dec_num)\n",
        "print ('dec_num is of type:',type(dec_num))\n",
        "print (s)\n",
        "print ('s is of type:',type(s))"
      ],
      "metadata": {
        "colab": {
          "base_uri": "https://localhost:8080/"
        },
        "id": "2i3jRrbhuwpv",
        "outputId": "a828c2b5-38a8-482b-87e4-5f523dd16e16"
      },
      "execution_count": null,
      "outputs": [
        {
          "output_type": "stream",
          "name": "stdout",
          "text": [
            "10\n",
            "num is of type: <class 'int'>\n",
            "9.4\n",
            "dec_num is of type: <class 'float'>\n",
            "scooby doo!\n",
            "s is of type: <class 'str'>\n"
          ]
        }
      ]
    },
    {
      "cell_type": "markdown",
      "source": [
        "The Commend .....>Type(variable)<........ print the adta type of the value that is stored in the variable.\n",
        "\n",
        "data type \"int\" means integers.\n",
        "dat type 'float' is used for decimzl type numbers.\n",
        "dat type 'str' a string is a value reprenting text."
      ],
      "metadata": {
        "id": "GjgxSW_mvbM1"
      }
    },
    {
      "cell_type": "markdown",
      "source": [
        "**Learning about Lists:-**\n",
        "\n",
        "code 1"
      ],
      "metadata": {
        "id": "spPYSjvkwzU8"
      }
    },
    {
      "cell_type": "code",
      "source": [
        "l =[10,20,30]\n",
        "print(l)\n",
        "print(l[0])\n",
        "print(l[1])\n",
        "print(l[2])"
      ],
      "metadata": {
        "colab": {
          "base_uri": "https://localhost:8080/"
        },
        "id": "5YiDDwCXxMf1",
        "outputId": "c3d0afb6-1c7e-48d0-a03c-59bf208fc2e7"
      },
      "execution_count": null,
      "outputs": [
        {
          "output_type": "stream",
          "name": "stdout",
          "text": [
            "[10, 20, 30]\n",
            "10\n",
            "20\n",
            "30\n"
          ]
        }
      ]
    },
    {
      "cell_type": "markdown",
      "source": [
        "**Additional info:-**\n",
        "\n",
        "computer start counting from the number zero."
      ],
      "metadata": {
        "id": "Eu0PsJHwxsQM"
      }
    },
    {
      "cell_type": "markdown",
      "source": [
        "**Boolean Data type :-**\n",
        "\n",
        "\n",
        "code 1\n"
      ],
      "metadata": {
        "id": "pOJ3t-Lwx4xi"
      }
    },
    {
      "cell_type": "code",
      "source": [
        "b1 = True\n",
        "b2 = False\n",
        "print('b1 is of type', type(b1),'\\n'  )\n",
        "print('b2 is of type', type(b2),'\\n'  )"
      ],
      "metadata": {
        "colab": {
          "base_uri": "https://localhost:8080/"
        },
        "id": "Id7tFbrAyIEB",
        "outputId": "1d05a032-6a9d-492d-86f9-2e6c753f5bd9"
      },
      "execution_count": null,
      "outputs": [
        {
          "output_type": "stream",
          "name": "stdout",
          "text": [
            "b1 is of type <class 'bool'> \n",
            "\n",
            "b2 is of type <class 'bool'> \n",
            "\n"
          ]
        }
      ]
    },
    {
      "cell_type": "markdown",
      "source": [],
      "metadata": {
        "id": "X7S_c8JEzTWC"
      }
    },
    {
      "cell_type": "markdown",
      "source": [
        "**Conversion of one data type to another (type conversion or Type casting):-**\n",
        "\n",
        "\n",
        "code 2\n"
      ],
      "metadata": {
        "id": "Xj9mwWw80JTC"
      }
    },
    {
      "cell_type": "code",
      "source": [
        "a = int(4.5)\n",
        "b = int('10')\n",
        "print(a, type(a), '\\n')\n",
        "print(b,type(b), '\\n')\n"
      ],
      "metadata": {
        "colab": {
          "base_uri": "https://localhost:8080/"
        },
        "id": "z6_g8QAx0fPc",
        "outputId": "d395b19b-4c0d-4afc-a515-66334f47e6bd"
      },
      "execution_count": null,
      "outputs": [
        {
          "output_type": "stream",
          "name": "stdout",
          "text": [
            "4 <class 'int'> \n",
            "\n",
            "10 <class 'int'> \n",
            "\n"
          ]
        }
      ]
    },
    {
      "cell_type": "markdown",
      "source": [
        "The variable 'a' printed the value as 4 and not 4.5, This is becouse we asked the Variable to store only integer valuues in it. So , it ignored the decimal part and stored the integer part.\n",
        "\n",
        "\n",
        "code 3\n"
      ],
      "metadata": {
        "id": "TqdoV0Sn1rJv"
      }
    },
    {
      "cell_type": "code",
      "source": [
        "c = float(5)\n",
        "d  = float('10')\n",
        "print(c, type(c) , '\\n')\n",
        "print(d, type(d), '\\n')\n"
      ],
      "metadata": {
        "colab": {
          "base_uri": "https://localhost:8080/"
        },
        "id": "4IRD91aQ2TrS",
        "outputId": "dbd69e18-5db6-4cc4-ac3e-750949d71cab"
      },
      "execution_count": null,
      "outputs": [
        {
          "output_type": "stream",
          "name": "stdout",
          "text": [
            "5.0 <class 'float'> \n",
            "\n",
            "10.0 <class 'float'> \n",
            "\n"
          ]
        }
      ]
    },
    {
      "cell_type": "markdown",
      "source": [
        "Similarly you can convert integer and float to sting, give it a try!\n",
        "\n",
        "\n",
        "Code 4\n"
      ],
      "metadata": {
        "id": "R_YisTQHZa8U"
      }
    },
    {
      "cell_type": "code",
      "source": [
        "e = bool(10)\n",
        "f = bool(0)\n",
        "g = bool(-10)\n",
        "print(e, type(e), '\\n')\n",
        "print(f, type(f), '\\n')\n",
        "print(g, type(g), '\\n')"
      ],
      "metadata": {
        "colab": {
          "base_uri": "https://localhost:8080/"
        },
        "id": "_h_U-zHWZ2Bf",
        "outputId": "777e60c4-c222-4664-be60-5534bede3a57"
      },
      "execution_count": null,
      "outputs": [
        {
          "output_type": "stream",
          "name": "stdout",
          "text": [
            "True <class 'bool'> \n",
            "\n",
            "False <class 'bool'> \n",
            "\n",
            "True <class 'bool'> \n",
            "\n"
          ]
        }
      ]
    },
    {
      "cell_type": "markdown",
      "source": [
        "The variable f is false because when computers convert integers into boolean every integer except 0 is considered as true, 0 is the only value which gives a boolean value as false.\n",
        "\n",
        "\n",
        "code 5"
      ],
      "metadata": {
        "id": "bjlZO7LGaHyJ"
      }
    },
    {
      "cell_type": "code",
      "source": [
        "h = bool('Hehe')\n",
        "i = bool('10')\n",
        "j = bool('10.5 ')\n",
        "k = bool('0 ')\n",
        "print(h, type(h), '\\n')\n",
        "print(i, type(i), '\\n')\n",
        "print(j, type(j), '\\n')\n",
        "print(k, type(k), '\\n')"
      ],
      "metadata": {
        "colab": {
          "base_uri": "https://localhost:8080/"
        },
        "id": "2Y1cOehzbEAq",
        "outputId": "14c14456-d675-4353-9feb-05cc6ebcd9e0"
      },
      "execution_count": null,
      "outputs": [
        {
          "output_type": "stream",
          "name": "stdout",
          "text": [
            "True <class 'bool'> \n",
            "\n",
            "True <class 'bool'> \n",
            "\n",
            "True <class 'bool'> \n",
            "\n",
            "True <class 'bool'> \n",
            "\n"
          ]
        }
      ]
    },
    {
      "cell_type": "markdown",
      "source": [
        "Here, the variable k is true because the zero in varible k is neither integer nor float. It is a string and string representation of boolean is always true except one condition. if the string is empty the boolean representation od empty steing will be false."
      ],
      "metadata": {
        "id": "Ukc7GFRPbpfS"
      }
    },
    {
      "cell_type": "markdown",
      "source": [
        "**Operators and Expressions:-**\n",
        "\n",
        "\n",
        "code 1\n",
        "\n"
      ],
      "metadata": {
        "id": "WTz4Jdk4cJms"
      }
    },
    {
      "cell_type": "code",
      "source": [
        "a = 30\n",
        "b =10\n",
        "n = a +b\n",
        "print(n)"
      ],
      "metadata": {
        "id": "Vx6ZuWDPcXL4",
        "colab": {
          "base_uri": "https://localhost:8080/"
        },
        "outputId": "06b25c40-0ab1-44b1-dcac-37f4ac4185f5"
      },
      "execution_count": null,
      "outputs": [
        {
          "output_type": "stream",
          "name": "stdout",
          "text": [
            "40\n"
          ]
        }
      ]
    },
    {
      "cell_type": "markdown",
      "source": [
        "code 2"
      ],
      "metadata": {
        "id": "ywzw-i1Se1ed"
      }
    },
    {
      "cell_type": "code",
      "source": [
        "c ='cool'\n",
        "d ='drunk'\n",
        "e = c+d\n",
        "print(e)"
      ],
      "metadata": {
        "colab": {
          "base_uri": "https://localhost:8080/"
        },
        "id": "Jc6h52fYe3Ts",
        "outputId": "67b01c2e-59c0-4122-8e85-26e721725d41"
      },
      "execution_count": null,
      "outputs": [
        {
          "output_type": "stream",
          "name": "stdout",
          "text": [
            "cooldrunk\n"
          ]
        }
      ]
    },
    {
      "cell_type": "markdown",
      "source": [
        "code 3\n"
      ],
      "metadata": {
        "id": "HyYcEP8KfH8r"
      }
    },
    {
      "cell_type": "code",
      "source": [
        "f = [1,2,3]\n",
        "g = [4,5,6]\n",
        "h = f +g\n",
        "print(h)"
      ],
      "metadata": {
        "colab": {
          "base_uri": "https://localhost:8080/"
        },
        "id": "zQZnP96zfKlj",
        "outputId": "1c557cbc-8cdc-44f2-cf07-4cc532722057"
      },
      "execution_count": null,
      "outputs": [
        {
          "output_type": "stream",
          "name": "stdout",
          "text": [
            "[1, 2, 3, 4, 5, 6]\n"
          ]
        }
      ]
    },
    {
      "cell_type": "markdown",
      "source": [
        "code 4"
      ],
      "metadata": {
        "id": "y5UlGrjyfbn8"
      }
    },
    {
      "cell_type": "code",
      "source": [
        "i=9\n",
        "j=10\n",
        "k=i/j\n",
        "print(k)"
      ],
      "metadata": {
        "colab": {
          "base_uri": "https://localhost:8080/"
        },
        "id": "VWaMYJwxfdoY",
        "outputId": "136d78d1-227a-4d58-97ae-899e9db95b8d"
      },
      "execution_count": null,
      "outputs": [
        {
          "output_type": "stream",
          "name": "stdout",
          "text": [
            "0.9\n"
          ]
        }
      ]
    },
    {
      "cell_type": "code",
      "source": [
        "n=10+13*2\n",
        "print(n)"
      ],
      "metadata": {
        "colab": {
          "base_uri": "https://localhost:8080/"
        },
        "id": "OG4mAXmtfr3y",
        "outputId": "25f6727f-c5c8-4dbb-e1df-5979f9aa5faf"
      },
      "execution_count": null,
      "outputs": [
        {
          "output_type": "stream",
          "name": "stdout",
          "text": [
            "36\n"
          ]
        }
      ]
    },
    {
      "cell_type": "markdown",
      "source": [
        "code 5\n"
      ],
      "metadata": {
        "id": "CJTCkFGhfzfN"
      }
    },
    {
      "cell_type": "code",
      "source": [
        "n = ((10+13)*2)\n",
        "print(n)"
      ],
      "metadata": {
        "colab": {
          "base_uri": "https://localhost:8080/"
        },
        "id": "ZtuThNBLf1r8",
        "outputId": "7f3bb3f7-fb11-4341-a5c3-8a34aadf30d6"
      },
      "execution_count": null,
      "outputs": [
        {
          "output_type": "stream",
          "name": "stdout",
          "text": [
            "46\n"
          ]
        }
      ]
    },
    {
      "cell_type": "markdown",
      "source": [
        "**more about operators:-**\n",
        "\n",
        "\n",
        "in python there are 3 types of operators:-\n",
        "1. Arithmetic Operators\n",
        "2. Relational Operaters\n",
        "3. Logical Operators\n",
        "\n",
        "\n",
        "code 1  (Arithmetics operators)\n"
      ],
      "metadata": {
        "id": "zj7VC2I2gHvR"
      }
    },
    {
      "cell_type": "code",
      "source": [
        "print('additon',2+3)\n",
        "print('subtraction',3-4)\n",
        "print('multiplication',3*4)\n",
        "print('division',7/3)\n",
        "print('floor division',8//3)\n",
        "print('mudolus',7%3)\n",
        "print('exponential',6**3)"
      ],
      "metadata": {
        "colab": {
          "base_uri": "https://localhost:8080/"
        },
        "id": "TYAFipDmgzh0",
        "outputId": "2b36696c-7a25-47e6-dc3b-c17b3a5c7d3f"
      },
      "execution_count": null,
      "outputs": [
        {
          "output_type": "stream",
          "name": "stdout",
          "text": [
            "additon 5\n",
            "subtraction -1\n",
            "multiplication 12\n",
            "division 2.3333333333333335\n",
            "floor division 2\n",
            "mudolus 1\n",
            "exponential 216\n"
          ]
        }
      ]
    },
    {
      "cell_type": "markdown",
      "source": [
        "Floor division operator will only give the integer part as the output and leave the decimal part.\n",
        "\n",
        "\n",
        "Division operator gives the integer as well as the decimal part as the output.\n",
        "\n",
        "\n",
        "\n",
        "code 2   (Relational Operators)\n"
      ],
      "metadata": {
        "id": "RF4BiFbIhmmb"
      }
    },
    {
      "cell_type": "code",
      "source": [
        "print(5>2)\n",
        "print(8<5)\n",
        "print(5>5)\n",
        "print(5<=5)\n",
        "print(5==50)\n",
        "print(5==5)\n",
        "print(5!=6)\n",
        "print(6!=11)"
      ],
      "metadata": {
        "colab": {
          "base_uri": "https://localhost:8080/"
        },
        "id": "CgJCpBguiHJu",
        "outputId": "07f82c67-fe58-415f-af2f-a23a803a46c8"
      },
      "execution_count": null,
      "outputs": [
        {
          "output_type": "stream",
          "name": "stdout",
          "text": [
            "True\n",
            "False\n",
            "False\n",
            "True\n",
            "False\n",
            "True\n",
            "True\n",
            "True\n"
          ]
        }
      ]
    },
    {
      "cell_type": "markdown",
      "source": [
        "Output of Relational Operators will always be a boolean value\n",
        "\n",
        "\n",
        "\n",
        "Code 3 (lOGICAL OPERATORS)\n"
      ],
      "metadata": {
        "id": "3ok9nwS6i0vz"
      }
    },
    {
      "cell_type": "code",
      "source": [
        "print(True and True)\n",
        "print(True and False)\n",
        "print(False and True)\n",
        "print(False and False)\n",
        "print(True or True)\n",
        "print(True or False)\n",
        "print(False or True)\n",
        "print(False or False)\n",
        "print(not(True))\n",
        "print(not(False))"
      ],
      "metadata": {
        "colab": {
          "base_uri": "https://localhost:8080/"
        },
        "id": "SkBvvNwWjHdl",
        "outputId": "c766088b-3dd2-46d5-c8a4-97edac67c8d0"
      },
      "execution_count": null,
      "outputs": [
        {
          "output_type": "stream",
          "name": "stdout",
          "text": [
            "True\n",
            "False\n",
            "False\n",
            "False\n",
            "True\n",
            "True\n",
            "True\n",
            "False\n",
            "False\n",
            "True\n"
          ]
        }
      ]
    },
    {
      "cell_type": "markdown",
      "source": [
        "**more about strings:-**\n",
        "\n",
        "\n",
        "Indexing, Slicing and more :-\n",
        "\n",
        "\n",
        "code 1 (indexing )\n"
      ],
      "metadata": {
        "id": "nscJ9EYclsjg"
      }
    },
    {
      "cell_type": "code",
      "source": [
        "s = 'coffee'\n",
        "t = 'bread'\n",
        "print(s[0])    #Indexing\n",
        "print(s[1])\n",
        "print(s[2])\n",
        "print(s[3])\n",
        "print(s[4])\n",
        "print(s[5])\n",
        "print(t[3])\n",
        "\n",
        "print(s[0:3])   #slicing\n",
        "print(t[1:4])"
      ],
      "metadata": {
        "colab": {
          "base_uri": "https://localhost:8080/"
        },
        "id": "C5jP2K71mBlx",
        "outputId": "9a28fc2f-2557-4883-9236-43f8ef09fed5"
      },
      "execution_count": null,
      "outputs": [
        {
          "output_type": "stream",
          "name": "stdout",
          "text": [
            "c\n",
            "o\n",
            "f\n",
            "f\n",
            "e\n",
            "e\n",
            "a\n",
            "cof\n",
            "rea\n"
          ]
        }
      ]
    },
    {
      "cell_type": "code",
      "source": [
        "l = '0123456789'\n",
        "a = l[0]\n",
        "b = l[1]\n",
        "print(a + b)\n",
        "c = l[4]\n",
        "d = l[7]\n",
        "print(c + d)\n"
      ],
      "metadata": {
        "colab": {
          "base_uri": "https://localhost:8080/"
        },
        "id": "jHntIy1_mp5g",
        "outputId": "0f60b709-a36b-46cd-ebe2-03637b7b929f"
      },
      "execution_count": null,
      "outputs": [
        {
          "output_type": "stream",
          "name": "stdout",
          "text": [
            "01\n",
            "47\n"
          ]
        }
      ]
    },
    {
      "cell_type": "markdown",
      "source": [
        "**Some concept about strings**\n",
        "\n",
        "\n",
        "code 1\n"
      ],
      "metadata": {
        "id": "U03h3HpRoRyC"
      }
    },
    {
      "cell_type": "code",
      "source": [
        "s = 'good'\n",
        "print(s*4)\n",
        "print(s[0]*4)\n"
      ],
      "metadata": {
        "colab": {
          "base_uri": "https://localhost:8080/"
        },
        "id": "mcimxk047llb",
        "outputId": "98b610d6-4158-4bfa-d7c5-61a4cced5797"
      },
      "execution_count": null,
      "outputs": [
        {
          "output_type": "stream",
          "name": "stdout",
          "text": [
            "goodgoodgoodgood\n",
            "gggg\n"
          ]
        }
      ]
    },
    {
      "cell_type": "markdown",
      "source": [
        "code 2\n",
        "\n"
      ],
      "metadata": {
        "id": "gn7Hi3Nt71W6"
      }
    },
    {
      "cell_type": "code",
      "source": [
        "x ='India'\n",
        "print(x=='india')\n",
        "print(x=='India')\n",
        "print('apple'>'one')\n",
        "print('four'<'five')\n",
        "print('abcdef'<'abcde')\n"
      ],
      "metadata": {
        "colab": {
          "base_uri": "https://localhost:8080/"
        },
        "id": "zvPq2VYK73L1",
        "outputId": "6fc4023d-b8bf-4328-d366-92b51b19a0bc"
      },
      "execution_count": null,
      "outputs": [
        {
          "output_type": "stream",
          "name": "stdout",
          "text": [
            "False\n",
            "True\n",
            "False\n",
            "False\n",
            "False\n"
          ]
        }
      ]
    },
    {
      "cell_type": "markdown",
      "source": [
        "In print('abcdef'<'abcde')  Letter 'f' on left side has no letter left on theright side to be compared with. Therefore \"f\" can not be smaller thasn nothing. hence it is false.\n",
        "\n",
        "\n",
        "code 3"
      ],
      "metadata": {
        "id": "UNwshysk8dNq"
      }
    },
    {
      "cell_type": "code",
      "source": [
        "x = \"python\"\n",
        "print(x[0])\n",
        "print(x[1])\n",
        "print(x[2])\n",
        "\n",
        "\n",
        "\n",
        "#Negative Indexing\n",
        "\n",
        "x = 'python'\n",
        "print(x[-1])\n",
        "print(x[-2])\n",
        "print(x[-3])\n",
        "print(x[-4])\n",
        "\n",
        "\n",
        "#String size or length\n",
        "s = 'waterplants'\n",
        "print(len(s))"
      ],
      "metadata": {
        "colab": {
          "base_uri": "https://localhost:8080/"
        },
        "id": "NniQHhFD9En2",
        "outputId": "2056df6c-8d72-4055-d9d1-7a838b25f204"
      },
      "execution_count": null,
      "outputs": [
        {
          "output_type": "stream",
          "name": "stdout",
          "text": [
            "p\n",
            "y\n",
            "t\n",
            "n\n",
            "o\n",
            "h\n",
            "t\n",
            "11\n"
          ]
        }
      ]
    }
  ]
}