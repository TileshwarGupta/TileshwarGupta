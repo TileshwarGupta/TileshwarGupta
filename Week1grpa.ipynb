{
  "nbformat": 4,
  "nbformat_minor": 0,
  "metadata": {
    "colab": {
      "provenance": [],
      "authorship_tag": "ABX9TyOa+8BE1x5zoLjRsIEDyQaz",
      "include_colab_link": true
    },
    "kernelspec": {
      "name": "python3",
      "display_name": "Python 3"
    },
    "language_info": {
      "name": "python"
    }
  },
  "cells": [
    {
      "cell_type": "markdown",
      "metadata": {
        "id": "view-in-github",
        "colab_type": "text"
      },
      "source": [
        "<a href=\"https://colab.research.google.com/github/TileshwarGupta/TileshwarGupta/blob/main/Week1grpa.ipynb\" target=\"_parent\"><img src=\"https://colab.research.google.com/assets/colab-badge.svg\" alt=\"Open In Colab\"/></a>"
      ]
    },
    {
      "cell_type": "code",
      "execution_count": null,
      "metadata": {
        "colab": {
          "base_uri": "https://localhost:8080/"
        },
        "id": "4FgPPlEJ6UnH",
        "outputId": "65c44889-6631-4cae-948a-566231033fe8"
      },
      "outputs": [
        {
          "output_type": "stream",
          "name": "stdout",
          "text": [
            "8\n",
            "16\n",
            "2\n",
            "7\n",
            "98.0\n",
            "98\n",
            "4 30\n"
          ]
        }
      ],
      "source": [
        "# GRPA1\n",
        "\n",
        " #Sample output\n",
        "a = 5\n",
        "b = 3\n",
        "price= 100\n",
        "discount_percent =2\n",
        "total_mins = 270\n",
        "output1 = a+b #sum of a and b\n",
        "print(output1)\n",
        "output2 =2*output1 #twice of sum of a and b\n",
        "print(output2)\n",
        "output3 =abs(a-b) #abs differnce between a and b\n",
        "print(output3)\n",
        "output4 =abs(output1-a*b) #abs differnce between sum of a , b and product of and b\n",
        "print(output4)\n",
        "\n",
        "# Find discounted price given price and discount_percent\n",
        "# input variables : price: int, discount_percent: float\n",
        "discounted_price = price-(price*discount_percent/100)\n",
        "print(discounted_price)\n",
        "rounded_discounted_price = round(discounted_price)\n",
        "print(rounded_discounted_price)\n",
        "# Find hrs and mins given the total_mins\n",
        "# input variables : total_mins\n",
        "hrs = total_mins//60\n",
        "mins = total_mins-hrs*60\n",
        "print(hrs,mins)"
      ]
    },
    {
      "cell_type": "code",
      "source": [
        "#GRPA 2\n",
        "#sample output\n",
        "a = int(input())\n",
        "\n",
        "price1, discount1 = 50, 4 # for offer1\n",
        "price2, discount2 = 60, 8 # for offer2\n",
        "output1 = a>=5 #True if a  is greater then and egual to 5\n",
        "print(output1)\n",
        "output2 = a%5 ==0 #True if a is divisble by 5\n",
        "print(output2)\n",
        "output3  =a%2==1 and a<10 #True if a is odd number less than 10\n",
        "print(output3)\n",
        "output4 = a%2==1 and -10<a<10#True if a is odd number and range between -10 to 10\n",
        "print(output4)\n",
        "a =  int(input())\n",
        "output5 =a%2 ==0 and len(a)<=10 #True if a is even number and not more then 10 digits\n",
        "print(output5)\n",
        "is_cheaper = (price1-(price1*discount1)/100)<(price2-(price2*discount2)/100) #True if offer1 is cheaper\n",
        "print(is_cheaper)"
      ],
      "metadata": {
        "colab": {
          "base_uri": "https://localhost:8080/"
        },
        "id": "aaJPYkeQ-zPY",
        "outputId": "8d853925-d9d9-4c39-e0c4-cf4bb6bdf2ad"
      },
      "execution_count": null,
      "outputs": [
        {
          "output_type": "stream",
          "name": "stdout",
          "text": [
            "5\n",
            "True\n",
            "True\n",
            "True\n",
            "True\n",
            "5258541\n",
            "False\n",
            "True\n"
          ]
        }
      ]
    },
    {
      "cell_type": "code",
      "source": [
        "#GRPA3\n",
        "#sample ijnput\n",
        "s = \"hello pyhton\"\n",
        "course_code = \"24t2cs1002\"\n",
        "output1 =s[2] # acess the 3 element of s\n",
        "print(output1)\n",
        "output2 =s[-4] #acess the last fourth element of s\n",
        "print(output2)\n",
        "output3 = s[0:3]#get the first 3 char of s\n",
        "print(output3)\n",
        "output4 = s[::2]#get every 2 char of s\n",
        "print(output4)\n",
        "output5 =s[8:12] #get the last 3 char of s\n",
        "print(output5)\n",
        "output6 =s[::-1] #get the revesre of s\n",
        "print(output6)\n",
        "output7 =course_code[3] #get the term of the year as number from from course code\n",
        "print(output7)\n",
        "output8 = course_code[0:2]#get the year from course code\n",
        "print(output8)"
      ],
      "metadata": {
        "colab": {
          "base_uri": "https://localhost:8080/"
        },
        "id": "m2KB3UorFFKt",
        "outputId": "7b766c96-0b72-4812-dac0-3d9ed236d224"
      },
      "execution_count": null,
      "outputs": [
        {
          "output_type": "stream",
          "name": "stdout",
          "text": [
            "l\n",
            "h\n",
            "hel\n",
            "hlopho\n",
            "hton\n",
            "nothyp olleh\n",
            "2\n",
            "24\n"
          ]
        }
      ]
    },
    {
      "cell_type": "code",
      "source": [
        "#Grpa 4\n",
        "#sample input\n",
        "word1 = \"Wingardium\" # str\n",
        "word2 = \"Leviyosa\" # str\n",
        "word3 = \"Silver\" # str\n",
        "sentence = \"Learning python is fun\"\n",
        "n1 = 6 # int\n",
        "n2 = 4 # int\n",
        "output1 =word1 +\" \"+word2 #join word1 and word2 in between space\n",
        "print(output1)\n",
        "output2 =word1[:4]+ '-'+ word2[-4:] #join the first four charcter of word 1 and last four charcter of word2 and in between - is neccesary\n",
        "print(output2)\n",
        "output3 = word3+' ' + str(n1)  #join the word3 and n1 with space\n",
        "print(output3)\n",
        "output4 = '-'*50 #repeat - 50 time\n",
        "print(output4)\n",
        "output5 ='-'*n2 #repeat - n2 time\n",
        "print(output5)\n",
        "output6 =str(n1)*n2 #repeat str n1 n2 time\n",
        "print(output6)\n",
        "are_all_words_equal = word1 == word2 and word2 == word3 and word3 == word1 #true if all word are equal\n",
        "print(are_all_words_equal)\n",
        "is_word1_comes_before_other_two = word1[0] < word2[0]and word2[0]<word3[0] # True if word1 comes before word2 and word3 assume all words are different\n",
        "print(is_word1_comes_before_other_two)\n",
        "has_h = 'h' in word1 #true if h in word 1\n",
        "print(has_h)\n",
        "end_with_a = word1.endswith('a') and word1.endswith('A') #true if all word end with a\n",
        "print(end_with_a)\n",
        "has_the_python = 'python' in sentence #true if python in sentence\n",
        "print(has_the_python)"
      ],
      "metadata": {
        "colab": {
          "base_uri": "https://localhost:8080/"
        },
        "id": "peWoFMvFM095",
        "outputId": "5b02f9c5-4372-45b8-85c1-e1776884526b"
      },
      "execution_count": null,
      "outputs": [
        {
          "output_type": "stream",
          "name": "stdout",
          "text": [
            "Wingardium Leviyosa\n",
            "Wing-yosa\n",
            "Silver 6\n",
            "--------------------------------------------------\n",
            "----\n",
            "6666\n",
            "False\n",
            "False\n",
            "False\n",
            "False\n",
            "True\n"
          ]
        }
      ]
    },
    {
      "cell_type": "code",
      "source": [
        "#GRPA 5\n",
        "age = int(input()) # int: Read a number as integer from standard input\n",
        "dob = input() # str: Read a string of format dd/mm/yy from standard input\n",
        "day, month, year = map(int,dob.split(\"/\")) # int, int, int: Get the correct parts from dob as int\n",
        "print(day,month, year)\n",
        "fifth_birthday = f\"{day}/{month}/{year+5}\" # str: fifth birthday formatted as day/month/year\n",
        "print(fifth_birthday)\n",
        "last_birthday = f\"{day}/{month}/{year+age}\"# str: last birthday formatted as day/month/year\n",
        "print(last_birthday)\n",
        "if(month+10)>12:\n",
        "    month-=12\n",
        "    year+=12\n",
        "tenth_month = f\"{day}/{(((month+10)-1)%12)+1}/{year+(((month+10)-1)//12)}\" # str: dob same day after 10 months formatted as day/month/year\n",
        "\n",
        "# print tenth_month, fifth_birthday and last_birthday in same line separated by comma and a space\n",
        "print(f\"{tenth_month},{fifth_birthday},{last_birthday}\")\n",
        "\n",
        "weight = float(intput())# float: Read a number as float from stdin(Standard input)\n",
        "\n",
        "weight_readable =f\"{int(weight)} kg {int((weight-int(weight))*1000)} grams\" # str: reformat weight of format 55 kg 250 grams\n",
        "\n",
        "# print weight_readable\n",
        "print(weight_readable)\n"
      ],
      "metadata": {
        "colab": {
          "base_uri": "https://localhost:8080/",
          "height": 245
        },
        "id": "GXJF1bKESSf2",
        "outputId": "cc364fea-00ee-4a2a-d8ba-022eb0454c46"
      },
      "execution_count": 3,
      "outputs": [
        {
          "name": "stdout",
          "output_type": "stream",
          "text": [
            "5\n",
            "12122001\n"
          ]
        },
        {
          "output_type": "error",
          "ename": "ValueError",
          "evalue": "not enough values to unpack (expected 3, got 1)",
          "traceback": [
            "\u001b[0;31m---------------------------------------------------------------------------\u001b[0m",
            "\u001b[0;31mValueError\u001b[0m                                Traceback (most recent call last)",
            "\u001b[0;32m/tmp/ipython-input-3-1601990884.py\u001b[0m in \u001b[0;36m<cell line: 0>\u001b[0;34m()\u001b[0m\n\u001b[1;32m      2\u001b[0m \u001b[0mage\u001b[0m \u001b[0;34m=\u001b[0m \u001b[0mint\u001b[0m\u001b[0;34m(\u001b[0m\u001b[0minput\u001b[0m\u001b[0;34m(\u001b[0m\u001b[0;34m)\u001b[0m\u001b[0;34m)\u001b[0m \u001b[0;31m# int: Read a number as integer from standard input\u001b[0m\u001b[0;34m\u001b[0m\u001b[0;34m\u001b[0m\u001b[0m\n\u001b[1;32m      3\u001b[0m \u001b[0mdob\u001b[0m \u001b[0;34m=\u001b[0m \u001b[0minput\u001b[0m\u001b[0;34m(\u001b[0m\u001b[0;34m)\u001b[0m \u001b[0;31m# str: Read a string of format dd/mm/yy from standard input\u001b[0m\u001b[0;34m\u001b[0m\u001b[0;34m\u001b[0m\u001b[0m\n\u001b[0;32m----> 4\u001b[0;31m \u001b[0mday\u001b[0m\u001b[0;34m,\u001b[0m \u001b[0mmonth\u001b[0m\u001b[0;34m,\u001b[0m \u001b[0myear\u001b[0m \u001b[0;34m=\u001b[0m \u001b[0mmap\u001b[0m\u001b[0;34m(\u001b[0m\u001b[0mint\u001b[0m\u001b[0;34m,\u001b[0m\u001b[0mdob\u001b[0m\u001b[0;34m.\u001b[0m\u001b[0msplit\u001b[0m\u001b[0;34m(\u001b[0m\u001b[0;34m\"/\"\u001b[0m\u001b[0;34m)\u001b[0m\u001b[0;34m)\u001b[0m \u001b[0;31m# int, int, int: Get the correct parts from dob as int\u001b[0m\u001b[0;34m\u001b[0m\u001b[0;34m\u001b[0m\u001b[0m\n\u001b[0m\u001b[1;32m      5\u001b[0m \u001b[0mprint\u001b[0m\u001b[0;34m(\u001b[0m\u001b[0mday\u001b[0m\u001b[0;34m,\u001b[0m\u001b[0mmonth\u001b[0m\u001b[0;34m,\u001b[0m \u001b[0myear\u001b[0m\u001b[0;34m)\u001b[0m\u001b[0;34m\u001b[0m\u001b[0;34m\u001b[0m\u001b[0m\n\u001b[1;32m      6\u001b[0m \u001b[0mfifth_birthday\u001b[0m \u001b[0;34m=\u001b[0m \u001b[0;34mf\"{day}/{month}/{year+5}\"\u001b[0m \u001b[0;31m# str: fifth birthday formatted as day/month/year\u001b[0m\u001b[0;34m\u001b[0m\u001b[0;34m\u001b[0m\u001b[0m\n",
            "\u001b[0;31mValueError\u001b[0m: not enough values to unpack (expected 3, got 1)"
          ]
        }
      ]
    },
    {
      "cell_type": "code",
      "source": [],
      "metadata": {
        "id": "Ys6CyTpMDHvz"
      },
      "execution_count": null,
      "outputs": []
    }
  ]
}